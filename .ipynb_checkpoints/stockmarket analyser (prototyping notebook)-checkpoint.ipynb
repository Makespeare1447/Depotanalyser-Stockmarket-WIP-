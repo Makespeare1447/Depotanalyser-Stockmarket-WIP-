{
 "cells": [
  {
   "cell_type": "code",
   "execution_count": 14,
   "metadata": {},
   "outputs": [],
   "source": [
    "import numpy as np\n",
    "import pandas as pd\n",
    "import matplotlib.pyplot as plt\n"
   ]
  },
  {
   "cell_type": "code",
   "execution_count": 15,
   "metadata": {},
   "outputs": [],
   "source": [
    "#TODO: GUI"
   ]
  },
  {
   "cell_type": "code",
   "execution_count": 21,
   "metadata": {},
   "outputs": [],
   "source": [
    "def manualmode():\n",
    "    \n",
    "    stocknumber = input('How many positions do you have in your Portfolio? ')\n",
    "    stocknumber=int(stocknumber)\n",
    "    stocknames = []\n",
    "    stockvalues = []\n",
    "    stockshares = []\n",
    "\n",
    "    for stock in range(stocknumber):\n",
    "        stocknames.append(input('Please fill in the Name of Position Nr. {}: '.format(stock+1)))\n",
    "        stockvalues.append(input('Please fill in the actual Value per stock of Position Nr. {}: '.format(stock+1)))\n",
    "        stockshares.append(input('How many shares do you own of Position Nr. {}: '.format(stock+1)))\n",
    "    \n",
    "    df = pd.DataFrame(list(zip(stocknames, stockvalues, stockshares)), columns=['Stock', 'Value', 'Shares'])\n",
    "    return df\n",
    "\n",
    "def automaticmode():\n",
    "    #TODO automatic read in for csv files\n",
    "    return 0"
   ]
  },
  {
   "cell_type": "code",
   "execution_count": 23,
   "metadata": {},
   "outputs": [
    {
     "name": "stdout",
     "output_type": "stream",
     "text": [
      "Welcome to the Portfolio Plotter!\n",
      "Type 0 for manual submitting stock information or 1 for reading in a csv file: 0\n",
      "How many positions do you have in your Portfolio? 1\n",
      "Please fill in the Name of Position Nr. 1: tesla\n",
      "Please fill in the actual Value per stock of Position Nr. 1: 2000\n",
      "How many shares do you own of Position Nr. 1: 3\n"
     ]
    }
   ],
   "source": [
    "#lets start:\n",
    "\n",
    "print('Welcome to the Portfolio Plotter!')\n",
    "mode = 2 \n",
    "\n",
    "while(mode!=0 and mode!=1):\n",
    "    mode = int(input('Type 0 for manual submitting stock information or 1 for reading in a csv file: '))\n",
    "\n",
    "if mode == 0:\n",
    "    df = manualmode()"
   ]
  },
  {
   "cell_type": "code",
   "execution_count": 24,
   "metadata": {},
   "outputs": [
    {
     "data": {
      "text/html": [
       "<div>\n",
       "<style scoped>\n",
       "    .dataframe tbody tr th:only-of-type {\n",
       "        vertical-align: middle;\n",
       "    }\n",
       "\n",
       "    .dataframe tbody tr th {\n",
       "        vertical-align: top;\n",
       "    }\n",
       "\n",
       "    .dataframe thead th {\n",
       "        text-align: right;\n",
       "    }\n",
       "</style>\n",
       "<table border=\"1\" class=\"dataframe\">\n",
       "  <thead>\n",
       "    <tr style=\"text-align: right;\">\n",
       "      <th></th>\n",
       "      <th>Stock</th>\n",
       "      <th>Value</th>\n",
       "      <th>Shares</th>\n",
       "    </tr>\n",
       "  </thead>\n",
       "  <tbody>\n",
       "    <tr>\n",
       "      <th>0</th>\n",
       "      <td>tesla</td>\n",
       "      <td>2000</td>\n",
       "      <td>3</td>\n",
       "    </tr>\n",
       "  </tbody>\n",
       "</table>\n",
       "</div>"
      ],
      "text/plain": [
       "   Stock Value Shares\n",
       "0  tesla  2000      3"
      ]
     },
     "execution_count": 24,
     "metadata": {},
     "output_type": "execute_result"
    }
   ],
   "source": [
    "df"
   ]
  },
  {
   "cell_type": "code",
   "execution_count": null,
   "metadata": {},
   "outputs": [],
   "source": []
  }
 ],
 "metadata": {
  "kernelspec": {
   "display_name": "Python 3",
   "language": "python",
   "name": "python3"
  },
  "language_info": {
   "codemirror_mode": {
    "name": "ipython",
    "version": 3
   },
   "file_extension": ".py",
   "mimetype": "text/x-python",
   "name": "python",
   "nbconvert_exporter": "python",
   "pygments_lexer": "ipython3",
   "version": "3.6.4"
  }
 },
 "nbformat": 4,
 "nbformat_minor": 2
}
